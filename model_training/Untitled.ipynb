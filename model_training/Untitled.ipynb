{
 "cells": [
  {
   "cell_type": "code",
   "execution_count": 1,
   "metadata": {},
   "outputs": [
    {
     "name": "stderr",
     "output_type": "stream",
     "text": [
      "/home/zhenqi/.local/lib/python3.6/site-packages/tensorflow/python/framework/dtypes.py:516: FutureWarning: Passing (type, 1) or '1type' as a synonym of type is deprecated; in a future version of numpy, it will be understood as (type, (1,)) / '(1,)type'.\n",
      "  _np_qint8 = np.dtype([(\"qint8\", np.int8, 1)])\n",
      "/home/zhenqi/.local/lib/python3.6/site-packages/tensorflow/python/framework/dtypes.py:517: FutureWarning: Passing (type, 1) or '1type' as a synonym of type is deprecated; in a future version of numpy, it will be understood as (type, (1,)) / '(1,)type'.\n",
      "  _np_quint8 = np.dtype([(\"quint8\", np.uint8, 1)])\n",
      "/home/zhenqi/.local/lib/python3.6/site-packages/tensorflow/python/framework/dtypes.py:518: FutureWarning: Passing (type, 1) or '1type' as a synonym of type is deprecated; in a future version of numpy, it will be understood as (type, (1,)) / '(1,)type'.\n",
      "  _np_qint16 = np.dtype([(\"qint16\", np.int16, 1)])\n",
      "/home/zhenqi/.local/lib/python3.6/site-packages/tensorflow/python/framework/dtypes.py:519: FutureWarning: Passing (type, 1) or '1type' as a synonym of type is deprecated; in a future version of numpy, it will be understood as (type, (1,)) / '(1,)type'.\n",
      "  _np_quint16 = np.dtype([(\"quint16\", np.uint16, 1)])\n",
      "/home/zhenqi/.local/lib/python3.6/site-packages/tensorflow/python/framework/dtypes.py:520: FutureWarning: Passing (type, 1) or '1type' as a synonym of type is deprecated; in a future version of numpy, it will be understood as (type, (1,)) / '(1,)type'.\n",
      "  _np_qint32 = np.dtype([(\"qint32\", np.int32, 1)])\n",
      "/home/zhenqi/.local/lib/python3.6/site-packages/tensorflow/python/framework/dtypes.py:525: FutureWarning: Passing (type, 1) or '1type' as a synonym of type is deprecated; in a future version of numpy, it will be understood as (type, (1,)) / '(1,)type'.\n",
      "  np_resource = np.dtype([(\"resource\", np.ubyte, 1)])\n",
      "/home/zhenqi/.local/lib/python3.6/site-packages/tensorboard/compat/tensorflow_stub/dtypes.py:541: FutureWarning: Passing (type, 1) or '1type' as a synonym of type is deprecated; in a future version of numpy, it will be understood as (type, (1,)) / '(1,)type'.\n",
      "  _np_qint8 = np.dtype([(\"qint8\", np.int8, 1)])\n",
      "/home/zhenqi/.local/lib/python3.6/site-packages/tensorboard/compat/tensorflow_stub/dtypes.py:542: FutureWarning: Passing (type, 1) or '1type' as a synonym of type is deprecated; in a future version of numpy, it will be understood as (type, (1,)) / '(1,)type'.\n",
      "  _np_quint8 = np.dtype([(\"quint8\", np.uint8, 1)])\n",
      "/home/zhenqi/.local/lib/python3.6/site-packages/tensorboard/compat/tensorflow_stub/dtypes.py:543: FutureWarning: Passing (type, 1) or '1type' as a synonym of type is deprecated; in a future version of numpy, it will be understood as (type, (1,)) / '(1,)type'.\n",
      "  _np_qint16 = np.dtype([(\"qint16\", np.int16, 1)])\n",
      "/home/zhenqi/.local/lib/python3.6/site-packages/tensorboard/compat/tensorflow_stub/dtypes.py:544: FutureWarning: Passing (type, 1) or '1type' as a synonym of type is deprecated; in a future version of numpy, it will be understood as (type, (1,)) / '(1,)type'.\n",
      "  _np_quint16 = np.dtype([(\"quint16\", np.uint16, 1)])\n",
      "/home/zhenqi/.local/lib/python3.6/site-packages/tensorboard/compat/tensorflow_stub/dtypes.py:545: FutureWarning: Passing (type, 1) or '1type' as a synonym of type is deprecated; in a future version of numpy, it will be understood as (type, (1,)) / '(1,)type'.\n",
      "  _np_qint32 = np.dtype([(\"qint32\", np.int32, 1)])\n",
      "/home/zhenqi/.local/lib/python3.6/site-packages/tensorboard/compat/tensorflow_stub/dtypes.py:550: FutureWarning: Passing (type, 1) or '1type' as a synonym of type is deprecated; in a future version of numpy, it will be understood as (type, (1,)) / '(1,)type'.\n",
      "  np_resource = np.dtype([(\"resource\", np.ubyte, 1)])\n"
     ]
    }
   ],
   "source": [
    "from sentiment_training import get_arg_parser"
   ]
  },
  {
   "cell_type": "code",
   "execution_count": 3,
   "metadata": {},
   "outputs": [],
   "source": [
    "PARSER = get_arg_parser()"
   ]
  },
  {
   "cell_type": "code",
   "execution_count": 6,
   "metadata": {},
   "outputs": [],
   "source": [
    "import argparse"
   ]
  },
  {
   "cell_type": "code",
   "execution_count": 7,
   "metadata": {},
   "outputs": [
    {
     "name": "stderr",
     "output_type": "stream",
     "text": [
      "usage: ipykernel_launcher.py [-h] [--train TRAIN] [--validation VALIDATION]\n",
      "                             [--eval EVAL]\n",
      "                             [--model_output_dir MODEL_OUTPUT_DIR]\n",
      "                             [--model_dir MODEL_DIR] [--num_epoch NUM_EPOCH]\n",
      "                             [--config_file CONFIG_FILE]\n",
      "ipykernel_launcher.py: error: unrecognized arguments: -f /home/zhenqi/.local/share/jupyter/runtime/kernel-83700849-cb18-4828-a2ab-f365d7efedcd.json\n"
     ]
    },
    {
     "ename": "SystemExit",
     "evalue": "2",
     "output_type": "error",
     "traceback": [
      "An exception has occurred, use %tb to see the full traceback.\n",
      "\u001b[0;31mSystemExit\u001b[0m\u001b[0;31m:\u001b[0m 2\n"
     ]
    }
   ],
   "source": [
    "PARSER.parse_args()"
   ]
  },
  {
   "cell_type": "code",
   "execution_count": 9,
   "metadata": {},
   "outputs": [],
   "source": [
    "from sentiment_dataset import train_input_fn"
   ]
  },
  {
   "cell_type": "code",
   "execution_count": null,
   "metadata": {},
   "outputs": [],
   "source": [
    "from sentiment_dataset import train_input_fn"
   ]
  },
  {
   "cell_type": "code",
   "execution_count": 15,
   "metadata": {},
   "outputs": [],
   "source": [
    "import config_holder as config_holder"
   ]
  },
  {
   "cell_type": "code",
   "execution_count": 18,
   "metadata": {},
   "outputs": [],
   "source": [
    "training_config = config_holder.ConfigHolder('/home/zhenqi/shenmarshal/columbia-aiops-training/model_training/training_config.json').config"
   ]
  },
  {
   "cell_type": "code",
   "execution_count": 19,
   "metadata": {},
   "outputs": [
    {
     "name": "stdout",
     "output_type": "stream",
     "text": [
      "Fetching train data...\n",
      "WARNING:tensorflow:From /home/zhenqi/shenmarshal/columbia-aiops-training/model_training/sentiment_dataset.py:83: DatasetV1.make_one_shot_iterator (from tensorflow.python.data.ops.dataset_ops) is deprecated and will be removed in a future version.\n",
      "Instructions for updating:\n",
      "Use `for ... in dataset:` to iterate over a dataset. If using `tf.estimator`, return the `Dataset` object directly from your input function. As a last resort, you can use `tf.compat.v1.data.make_one_shot_iterator(dataset)`.\n"
     ]
    }
   ],
   "source": [
    "train_dataset = train_input_fn('/home/zhenqi/shenmarshal/columbia-aiops-training/training/', training_config)"
   ]
  },
  {
   "cell_type": "code",
   "execution_count": 20,
   "metadata": {},
   "outputs": [
    {
     "data": {
      "text/plain": [
       "[{'embedding_input': <tf.Tensor 'IteratorGetNext:0' shape=(?, 20) dtype=int32>},\n",
       " <tf.Tensor 'IteratorGetNext:1' shape=(?,) dtype=float32>,\n",
       " {'num_data_point': 8499, 'num_batches': 85}]"
      ]
     },
     "execution_count": 20,
     "metadata": {},
     "output_type": "execute_result"
    }
   ],
   "source": [
    "train_dataset"
   ]
  },
  {
   "cell_type": "code",
   "execution_count": 21,
   "metadata": {},
   "outputs": [
    {
     "name": "stdout",
     "output_type": "stream",
     "text": [
      "Fetching train data...\n"
     ]
    },
    {
     "data": {
      "text/plain": [
       "[{'embedding_input': <tf.Tensor 'IteratorGetNext_1:0' shape=(?, 20) dtype=int32>},\n",
       " <tf.Tensor 'IteratorGetNext_1:1' shape=(?,) dtype=float32>,\n",
       " {'num_data_point': 8499, 'num_batches': 85}]"
      ]
     },
     "execution_count": 21,
     "metadata": {},
     "output_type": "execute_result"
    }
   ],
   "source": [
    "train_input_fn('/home/zhenqi/shenmarshal/columbia-aiops-training/training/', training_config)"
   ]
  },
  {
   "cell_type": "code",
   "execution_count": 22,
   "metadata": {},
   "outputs": [],
   "source": [
    "from sentiment_training import main"
   ]
  },
  {
   "cell_type": "code",
   "execution_count": 23,
   "metadata": {},
   "outputs": [],
   "source": [
    "from sentiment_training import get_arg_parser"
   ]
  },
  {
   "cell_type": "code",
   "execution_count": 26,
   "metadata": {},
   "outputs": [
    {
     "name": "stdout",
     "output_type": "stream",
     "text": [
      "Preparing for training...\n"
     ]
    },
    {
     "ename": "AttributeError",
     "evalue": "'ArgumentParser' object has no attribute 'config_file'",
     "output_type": "error",
     "traceback": [
      "\u001b[0;31m---------------------------------------------------------------------------\u001b[0m",
      "\u001b[0;31mAttributeError\u001b[0m                            Traceback (most recent call last)",
      "\u001b[0;32m<ipython-input-26-b4750d5101c8>\u001b[0m in \u001b[0;36m<module>\u001b[0;34m\u001b[0m\n\u001b[1;32m      1\u001b[0m \u001b[0mPARSER\u001b[0m \u001b[0;34m=\u001b[0m \u001b[0mget_arg_parser\u001b[0m\u001b[0;34m(\u001b[0m\u001b[0;34m)\u001b[0m\u001b[0;34m\u001b[0m\u001b[0;34m\u001b[0m\u001b[0m\n\u001b[0;32m----> 2\u001b[0;31m \u001b[0mmain\u001b[0m\u001b[0;34m(\u001b[0m\u001b[0mPARSER\u001b[0m\u001b[0;34m)\u001b[0m\u001b[0;34m\u001b[0m\u001b[0;34m\u001b[0m\u001b[0m\n\u001b[0m",
      "\u001b[0;32m~/shenmarshal/columbia-aiops-training/model_training/sentiment_training.py\u001b[0m in \u001b[0;36mmain\u001b[0;34m(args)\u001b[0m\n\u001b[1;32m     24\u001b[0m     \u001b[0mprint\u001b[0m\u001b[0;34m(\u001b[0m\u001b[0;34m\"Preparing for training...\"\u001b[0m\u001b[0;34m)\u001b[0m\u001b[0;34m\u001b[0m\u001b[0;34m\u001b[0m\u001b[0m\n\u001b[1;32m     25\u001b[0m \u001b[0;34m\u001b[0m\u001b[0m\n\u001b[0;32m---> 26\u001b[0;31m     \u001b[0mtraining_config\u001b[0m \u001b[0;34m=\u001b[0m \u001b[0mconfig_holder\u001b[0m\u001b[0;34m.\u001b[0m\u001b[0mConfigHolder\u001b[0m\u001b[0;34m(\u001b[0m\u001b[0margs\u001b[0m\u001b[0;34m.\u001b[0m\u001b[0mconfig_file\u001b[0m\u001b[0;34m)\u001b[0m\u001b[0;34m.\u001b[0m\u001b[0mconfig\u001b[0m\u001b[0;34m\u001b[0m\u001b[0;34m\u001b[0m\u001b[0m\n\u001b[0m\u001b[1;32m     27\u001b[0m \u001b[0;34m\u001b[0m\u001b[0m\n\u001b[1;32m     28\u001b[0m     \u001b[0mtraining_config\u001b[0m\u001b[0;34m[\u001b[0m\u001b[0;34m\"num_epoch\"\u001b[0m\u001b[0;34m]\u001b[0m \u001b[0;34m=\u001b[0m \u001b[0margs\u001b[0m\u001b[0;34m.\u001b[0m\u001b[0mnum_epoch\u001b[0m\u001b[0;34m\u001b[0m\u001b[0;34m\u001b[0m\u001b[0m\n",
      "\u001b[0;31mAttributeError\u001b[0m: 'ArgumentParser' object has no attribute 'config_file'"
     ]
    }
   ],
   "source": [
    "PARSER = get_arg_parser()\n",
    "main(PARSER)"
   ]
  },
  {
   "cell_type": "code",
   "execution_count": 27,
   "metadata": {},
   "outputs": [],
   "source": [
    "import argparse\n"
   ]
  },
  {
   "cell_type": "code",
   "execution_count": 30,
   "metadata": {},
   "outputs": [],
   "source": [
    "ARGS = PARSER.parse_args(args=[])"
   ]
  },
  {
   "cell_type": "code",
   "execution_count": 31,
   "metadata": {},
   "outputs": [
    {
     "name": "stdout",
     "output_type": "stream",
     "text": [
      "Preparing for training...\n",
      "Fetching train data...\n",
      "Fetching validation data...\n",
      "Fetching eval data...\n",
      "Creating a model...\n",
      "Loading embeddings at path /home/zhenqi/shenmarshal/columbia-aiops-training/glove.twitter.27B.25d.txt...\n",
      "WARNING:tensorflow:From /home/zhenqi/.local/lib/python3.6/site-packages/tensorflow/python/keras/initializers.py:119: calling RandomUniform.__init__ (from tensorflow.python.ops.init_ops) with dtype is deprecated and will be removed in a future version.\n",
      "Instructions for updating:\n",
      "Call initializer instance with the dtype argument instead of passing it to the constructor\n",
      "WARNING:tensorflow:From /home/zhenqi/.local/lib/python3.6/site-packages/tensorflow/python/ops/init_ops.py:1251: calling VarianceScaling.__init__ (from tensorflow.python.ops.init_ops) with dtype is deprecated and will be removed in a future version.\n",
      "Instructions for updating:\n",
      "Call initializer instance with the dtype argument instead of passing it to the constructor\n",
      "Starting training...\n",
      "[{'embedding_input': <tf.Tensor 'IteratorGetNext_2:0' shape=(?, 20) dtype=int32>}, <tf.Tensor 'IteratorGetNext_2:1' shape=(?,) dtype=float32>, {'num_data_point': 8499, 'num_batches': 85}]\n",
      "{'embedding_input': <tf.Tensor 'IteratorGetNext_2:0' shape=(?, 20) dtype=int32>}\n",
      "Tensor(\"IteratorGetNext_2:1\", shape=(?,), dtype=float32)\n",
      "{'num_data_point': 8499, 'num_batches': 85}\n",
      "Epoch 1/10\n",
      "85/85 [==============================] - 7s 84ms/step - loss: 0.6558 - acc: 0.6116 - val_loss: 0.6362 - val_acc: 0.6500\n",
      "Epoch 2/10\n",
      "85/85 [==============================] - 6s 70ms/step - loss: 0.5776 - acc: 0.6995 - val_loss: 0.6067 - val_acc: 0.6760\n",
      "Epoch 3/10\n",
      "85/85 [==============================] - 6s 74ms/step - loss: 0.5333 - acc: 0.7321 - val_loss: 0.5917 - val_acc: 0.6810\n",
      "Epoch 4/10\n",
      "85/85 [==============================] - 6s 67ms/step - loss: 0.4871 - acc: 0.7676 - val_loss: 0.5866 - val_acc: 0.6910\n",
      "Epoch 5/10\n",
      "85/85 [==============================] - 6s 66ms/step - loss: 0.4423 - acc: 0.7908 - val_loss: 0.5962 - val_acc: 0.6920\n",
      "Epoch 6/10\n",
      "85/85 [==============================] - 5s 60ms/step - loss: 0.3990 - acc: 0.8192 - val_loss: 0.6188 - val_acc: 0.7040\n",
      "Epoch 7/10\n",
      "85/85 [==============================] - 6s 68ms/step - loss: 0.3636 - acc: 0.8387 - val_loss: 0.6414 - val_acc: 0.6830\n",
      "Epoch 8/10\n",
      "85/85 [==============================] - 6s 66ms/step - loss: 0.3167 - acc: 0.8668 - val_loss: 0.7805 - val_acc: 0.6790\n",
      "Epoch 9/10\n",
      "85/85 [==============================] - 5s 64ms/step - loss: 0.2761 - acc: 0.8878 - val_loss: 0.7479 - val_acc: 0.6860\n",
      "Epoch 10/10\n",
      "85/85 [==============================] - 6s 65ms/step - loss: 0.2460 - acc: 0.8999 - val_loss: 0.8669 - val_acc: 0.6700\n",
      "Test loss:0.7914759159088135\n",
      "Test accuracy:0.671999990940094\n",
      "Saving model...\n",
      "Model successfully saved at: /home/zhenqi/shenmarshal/columbia-aiops-training/model_training/sentiment_model.h5\n"
     ]
    }
   ],
   "source": [
    "main(ARGS)"
   ]
  },
  {
   "cell_type": "code",
   "execution_count": null,
   "metadata": {},
   "outputs": [],
   "source": []
  }
 ],
 "metadata": {
  "kernelspec": {
   "display_name": "Python 3",
   "language": "python",
   "name": "python3"
  },
  "language_info": {
   "codemirror_mode": {
    "name": "ipython",
    "version": 3
   },
   "file_extension": ".py",
   "mimetype": "text/x-python",
   "name": "python",
   "nbconvert_exporter": "python",
   "pygments_lexer": "ipython3",
   "version": "3.6.9"
  }
 },
 "nbformat": 4,
 "nbformat_minor": 4
}
